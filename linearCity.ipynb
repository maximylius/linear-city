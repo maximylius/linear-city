{
 "cells": [
  {
   "cell_type": "code",
   "execution_count": 1,
   "metadata": {},
   "outputs": [],
   "source": [
    "#%load_ext lab_black\n",
    "import pandas as pd\n",
    "import numpy as np\n",
    "import scipy\n",
    "import statsmodels.api as sm\n",
    "from statsmodels.sandbox.regression import gmm\n",
    "import matplotlib.pyplot as plt\n",
    "import seaborn as sns"
   ]
  },
  {
   "cell_type": "markdown",
   "metadata": {},
   "source": [
    "#Linear City Model"
   ]
  },
  {
   "cell_type": "code",
   "execution_count": 2,
   "metadata": {},
   "outputs": [],
   "source": [
    "def drawConsumer (register, L:int=1, fixLocation=None):\n",
    "    \"\"\"L: number of goods\"\"\"\n",
    "    c = {\n",
    "        \"id\": register[\"consumerId\"]+1, \n",
    "        \"type\": \"consumer\",\n",
    "        \"wealth\": 2 + np.random.rand()*2,\n",
    "        \"talent\": 2 + np.random.rand()*2,\n",
    "        \"taste\": np.random.rand(L),\n",
    "        \"mc_transport\": 0.025,\n",
    "        'supplierId': None,\n",
    "        'location': fixLocation\n",
    "    }\n",
    "    register[\"consumers\"][c[\"id\"]] = c\n",
    "    register[\"consumerId\"] += 1\n",
    "    return(c)"
   ]
  },
  {
   "cell_type": "code",
   "execution_count": 3,
   "metadata": {},
   "outputs": [],
   "source": [
    "def drawFirm (register, L:int=1, fixLocation=None):\n",
    "    f = {\n",
    "        \"id\": register[\"firmId\"]+1, \n",
    "        \"type\": \"firm\",\n",
    "        \"mc\": np.random.rand()/4,\n",
    "        \"good\": np.random.randint(0,L),\n",
    "        'clients': set(),\n",
    "        'location': fixLocation,\n",
    "    }\n",
    "    register[\"firms\"][f[\"id\"]] = f\n",
    "    register[\"firmId\"] += 1\n",
    "    return(f)"
   ]
  },
  {
   "cell_type": "code",
   "execution_count": 4,
   "metadata": {},
   "outputs": [],
   "source": [
    "def floorCost (lvl: int):\n",
    "    \"\"\"returns cost for moving into floor lvl x\"\"\"\n",
    "    cost = 0.1 + lvl ** 1.2 / 10\n",
    "    return(cost)"
   ]
  },
  {
   "cell_type": "code",
   "execution_count": 5,
   "metadata": {},
   "outputs": [
    {
     "data": {
      "text/plain": [
       "[0.1, 0.2, 0.33, 0.47, 0.63, 0.79, 0.96, 1.13, 1.31, 1.5]"
      ]
     },
     "execution_count": 5,
     "metadata": {},
     "output_type": "execute_result"
    }
   ],
   "source": [
    "list(map(lambda x: round(floorCost(x),2), range(10)))"
   ]
  },
  {
   "cell_type": "code",
   "execution_count": 6,
   "metadata": {},
   "outputs": [],
   "source": [
    "def consumerValue(consumer, firm):\n",
    "    value = consumer[\"taste\"][firm[\"good\"]] * consumer[\"wealth\"]\n",
    "    value -= firm[\"mc\"]\n",
    "    value -= consumer[\"mc_transport\"] * abs(consumer[\"location\"] - firm[\"location\"]) \n",
    "    return(value)\n",
    "# "
   ]
  },
  {
   "cell_type": "code",
   "execution_count": 7,
   "metadata": {},
   "outputs": [],
   "source": [
    "\n",
    "def returnMaxIndex (numbers: list):\n",
    "    \"\"\"Return maximum index. If maximum is not unique, choose randomly among maxima.\"\"\"\n",
    "    # find all choice options with best value\n",
    "    numberIsMax = [x == max(numbers) for x in numbers]\n",
    "    # randomly choose one of them and return index\n",
    "    maxInd = [c for (c, m) in zip(range(len(numberIsMax)), numberIsMax) if m][np.random.randint(0, sum(numberIsMax))]\n",
    "    return maxInd\n",
    "# "
   ]
  },
  {
   "cell_type": "code",
   "execution_count": 8,
   "metadata": {},
   "outputs": [],
   "source": [
    "def chooseSupplier (register:dict, consumer:dict):\n",
    "    # consumer location must be given\n",
    "    supplierId = consumer[\"supplierId\"]\n",
    "    currentValue = -100\n",
    "\n",
    "    for firmId in register[\"firms\"].keys():\n",
    "        firm = register[\"firms\"][firmId]\n",
    "        if(firm[\"location\"] != None):\n",
    "            if(consumerValue(consumer, firm)>currentValue):\n",
    "                supplierId = firm[\"id\"]\n",
    "                currentValue = consumerValue(consumer, firm)\n",
    "\n",
    "    return supplierId\n",
    "# "
   ]
  },
  {
   "cell_type": "code",
   "execution_count": 9,
   "metadata": {},
   "outputs": [],
   "source": [
    "def assignToFirm(register:dict, consumer:dict, firmId:str): \n",
    "    if(consumer[\"supplierId\"] != None and consumer[\"supplierId\"] != firmId):\n",
    "        register[\"firms\"][consumer[\"supplierId\"]][\"clients\"].discard(consumer[\"id\"])\n",
    "\n",
    "    consumer[\"supplierId\"] = firmId \n",
    "\n",
    "    if not consumer[\"id\"] in register[\"firms\"][firmId][\"clients\"]:\n",
    "        register[\"firms\"][firmId][\"clients\"].add(consumer[\"id\"]) \n",
    "\n",
    "#"
   ]
  },
  {
   "cell_type": "code",
   "execution_count": 10,
   "metadata": {},
   "outputs": [],
   "source": [
    "def settleConsumer (city:list, register:dict, consumer:dict, relocate:bool=False):\n",
    "    if(relocate):\n",
    "        city[consumer[\"location\"]].remove(consumer)\n",
    "        register[\"firms\"][consumer[\"supplierId\"]][\"clients\"].discard(consumer[\"id\"])\n",
    "\n",
    "\n",
    "    # give a value to each possible settlement position\n",
    "    locationValues = list(map(lambda x: -floorCost(len(x)), city))\n",
    "    locationSuppliers = [consumer[\"supplierId\"]]*len(city)\n",
    "    for locationInd, location in enumerate(city):\n",
    "        consumer[\"location\"] = locationInd\n",
    "        locationSupplier = register[\"firms\"][chooseSupplier(register, consumer)]\n",
    "        locationValues[locationInd] = consumerValue(consumer, locationSupplier) - floorCost(len(location))\n",
    "        locationSuppliers[locationInd] = locationSupplier['id']\n",
    "        \n",
    "    if(max(locationValues)<0):\n",
    "        print('Consumer wont settle in city', max(locationValues)<0)\n",
    "        #register[\"consumers\"].remove(consumer)\n",
    "    else:\n",
    "        locationInd = returnMaxIndex(locationValues)\n",
    "        consumer['location'] = locationInd\n",
    "        assignToFirm(register, consumer, locationSuppliers[locationInd])\n",
    "        city[locationInd].append(consumer)\n",
    "#"
   ]
  },
  {
   "cell_type": "code",
   "execution_count": 11,
   "metadata": {},
   "outputs": [],
   "source": [
    "def settleFirm(city:list, register, firm:dict, relocate:bool=False): \n",
    "\n",
    "    if(relocate):\n",
    "        city[firm[\"location\"]].remove(firm)\n",
    "        for client in firm[\"clients\"]:\n",
    "            firm = chooseSupplier(register, client)\n",
    "            assignToFirm(register, client, firm[\"id\"])\n",
    "\n",
    "\n",
    "    locationValues = list(map(lambda x: -floorCost(len(x)), city)) \n",
    "    locationClients = [[]]*len(city)\n",
    "\n",
    "    for locationInd, location in enumerate(city):\n",
    "        firm[\"location\"] = locationInd\n",
    "        for consumerId in register[\"consumers\"].keys():\n",
    "            consumer = register[\"consumers\"][consumerId]\n",
    "            \n",
    "            if( consumer[\"supplierId\"] == None or consumerValue(consumer, register[\"firms\"][consumer[\"supplierId\"]] ) < consumerValue(consumer, firm) ):\n",
    "                        locationValues[locationInd] += max(0, consumerValue(consumer, firm) - firm[\"mc\"]) # how is welfare shared \n",
    "                        locationClients[locationInd].append(consumer[\"id\"])\n",
    "\n",
    "    # locate firm at maximum location index\n",
    "    locationInd = returnMaxIndex(locationValues)\n",
    "    firm[\"location\"] = locationInd\n",
    "    for clientId in locationClients[locationInd]:\n",
    "        client = register[\"consumers\"][clientId]\n",
    "        if(client[\"supplierId\"] in register[\"firms\"].keys()):\n",
    "            register[\"firms\"][client[\"supplierId\"]][\"clients\"].discard(clientId)\n",
    "        client[\"supplierId\"] = firm[\"id\"]\n",
    "\n",
    "    city[locationInd].append(firm) \n",
    "\n",
    "#"
   ]
  },
  {
   "cell_type": "code",
   "execution_count": 12,
   "metadata": {},
   "outputs": [
    {
     "data": {
      "text/plain": [
       "[]"
      ]
     },
     "execution_count": 12,
     "metadata": {},
     "output_type": "execute_result"
    }
   ],
   "source": [
    "list(list(range(0)))"
   ]
  },
  {
   "cell_type": "code",
   "execution_count": 13,
   "metadata": {},
   "outputs": [],
   "source": [
    "def createNewCity (L, size:int=100, firmPositions:list=[range(0)], consumerPositons:list=[range(0)]):\n",
    "    register = {\n",
    "        \"consumers\": {},\n",
    "        \"firms\" : {},\n",
    "        \"consumerId\": 0,\n",
    "        \"firmId\": 0,\n",
    "    }\n",
    "\n",
    "    city = list(map(lambda x: [], [1]*size))\n",
    "    \n",
    "    for positions in firmPositions:\n",
    "        positions = list(positions)\n",
    "        for pos in positions:\n",
    "            city[pos].append(drawFirm(register, L, pos))\n",
    "            \n",
    "    for positions in consumerPositons:\n",
    "        positions = list(positions)\n",
    "        for pos in positions:\n",
    "            city[pos].append(drawConsumer(register, L, pos))\n",
    "\n",
    "    return (city, register)"
   ]
  },
  {
   "cell_type": "code",
   "execution_count": 14,
   "metadata": {},
   "outputs": [
    {
     "data": {
      "text/plain": [
       "{'consumers': {1: {'id': 1,\n",
       "   'type': 'consumer',\n",
       "   'wealth': 3.7844385760603028,\n",
       "   'talent': 2.3189691880380026,\n",
       "   'taste': array([0.72819327]),\n",
       "   'mc_transport': 0.025,\n",
       "   'supplierId': None,\n",
       "   'location': 4}},\n",
       " 'firms': {},\n",
       " 'consumerId': 1,\n",
       " 'firmId': 0}"
      ]
     },
     "execution_count": 14,
     "metadata": {},
     "output_type": "execute_result"
    }
   ],
   "source": [
    "(city, register) = createNewCity(1,10, [],[range(4,5)])\n",
    "register"
   ]
  },
  {
   "cell_type": "code",
   "execution_count": null,
   "metadata": {},
   "outputs": [],
   "source": []
  },
  {
   "cell_type": "code",
   "execution_count": 22,
   "metadata": {},
   "outputs": [
    {
     "data": {
      "text/plain": [
       "100"
      ]
     },
     "execution_count": 22,
     "metadata": {},
     "output_type": "execute_result"
    }
   ],
   "source": [
    "len()"
   ]
  },
  {
   "cell_type": "code",
   "execution_count": 27,
   "metadata": {},
   "outputs": [
    {
     "name": "stdout",
     "output_type": "stream",
     "text": [
      "Consumer wont settle in city True\n",
      "Consumer wont settle in city True\n"
     ]
    },
    {
     "data": {
      "image/png": "[encoded data removed]",
      "text/plain": [
       "<Figure size 1872x1872 with 4 Axes>"
      ]
     },
     "metadata": {
      "needs_background": "light"
     },
     "output_type": "display_data"
    }
   ],
   "source": [
    "# number of differntiated goods\n",
    "params = {\n",
    "    \"L\":1,\n",
    "    \"citysize\": 20,\n",
    "    \"firmPostions_start\": [],\n",
    "    \"consumerPositons_start\": [range(9,12)],\n",
    "    \"max_pop\": 20,\n",
    "    \"firm_to_pop_ratio\": 1/5,\n",
    "    \"n_subplots\": 4\n",
    "}\n",
    "# number of lots in linear city, maximum floor number\n",
    "\n",
    "(city, register) = createNewCity(L=params[\"L\"], size=params[\"citysize\"], firmPositions=params[\"firmPostions_start\"], consumerPositons=params[\"consumerPositons_start\"])\n",
    "\n",
    "fig, axs = plt.subplots(nrows=params[\"n_subplots\"], ncols=1, figsize=(26,26))\n",
    "plt.get_cmap('jet')\n",
    "for i in range(params[\"max_pop\"]+1):\n",
    "    city_pop = sum(list(map(lambda l: len(list(filter(lambda p: p[\"type\"]==\"consumer\", l))), city)))\n",
    "    city_n_firms = sum(list(map(lambda l: len(list(filter(lambda p: p[\"type\"]==\"firm\", l))), city)))\n",
    "    if( (city_n_firms / city_pop) < params[\"firm_to_pop_ratio\"] ):\n",
    "        settleFirm(city, register, drawFirm(register, params[\"L\"]))\n",
    "        # print(\"added firm.\")\n",
    "        \n",
    "    settleConsumer(city, register, drawConsumer(register, params[\"L\"]))\n",
    "    if(i in list(np.array(range(1,params[\"n_subplots\"] + 1))*(params[\"max_pop\"] / params[\"n_subplots\"]))):\n",
    "        ax = axs.flat[ int( (i // (params[\"max_pop\"] / params[\"n_subplots\"]) ) - 1) ]\n",
    "        labels = range(len(city))\n",
    "        for locInd, location in enumerate(city):\n",
    "            for (floor, party) in enumerate(location):\n",
    "                cn = int(10 + party[\"id\"] * 236 / city_pop) if party[\"type\"]==\"consumer\" else int(10 + party[\"id\"] * 236 / city_n_firms) \n",
    "                \n",
    "                clr = plt.cm.Greens(cn) if party[\"type\"]==\"consumer\" else plt.cm.Reds(cn)\n",
    "                ax.bar(labels, list([0]*(locInd)+[1]+[0]*(params[\"citysize\"]-locInd-1)), bottom=floor, color=clr)    \n",
    "        # n_firms = list(map(lambda l: len(list(filter(lambda p: p[\"type\"]==\"firm\", l))),city))\n",
    "        # n_consumers = list(map(lambda l: len(list(filter(lambda p: p[\"type\"]==\"consumer\", l))),city))\n",
    "        # #width = 0.35       # the width of the bars: can also be len(x) sequence\n",
    "        \n",
    "        # ax.bar(labels, n_firms, label='firms')\n",
    "        # ax.bar(labels, n_consumers, bottom=n_firms, label='consumer')\n",
    "        # ax.bar(labels, n_firms, label='firms')\n",
    "        # ax.legend()\n",
    "        # ax.set_ylabel('Scores')\n",
    "        title = \"City with \" + str(city_pop) + \" consumers and \" + str(city_n_firms) + \" firms.\"\n",
    "        ax.set_title(title)\n",
    "\n",
    "plt.show()\n"
   ]
  },
  {
   "cell_type": "code",
   "execution_count": 16,
   "metadata": {},
   "outputs": [
    {
     "data": {
      "text/plain": [
       "1"
      ]
     },
     "execution_count": 16,
     "metadata": {},
     "output_type": "execute_result"
    }
   ],
   "source": [
    "int((22 // (params[\"max_pop\"] / params[\"n_subplots\"]) ) - 1)"
   ]
  },
  {
   "cell_type": "code",
   "execution_count": 17,
   "metadata": {},
   "outputs": [],
   "source": [
    "cmap = plt.cm.jet  # define the colormap\n",
    "# extract all colors from the .jet map\n",
    "cmaplist = [cmap(i) for i in range(cmap.N)]"
   ]
  },
  {
   "cell_type": "code",
   "execution_count": 18,
   "metadata": {},
   "outputs": [
    {
     "data": {
      "text/plain": [
       "(0.0, 0.2918877354863514, 0.11633986928104575, 1.0)"
      ]
     },
     "execution_count": 18,
     "metadata": {},
     "output_type": "execute_result"
    }
   ],
   "source": [
    "plt.cm.Greens(250)"
   ]
  },
  {
   "cell_type": "code",
   "execution_count": 19,
   "metadata": {},
   "outputs": [
    {
     "data": {
      "text/plain": [
       "(0.403921568627451, 0.0, 0.05098039215686274, 1.0)"
      ]
     },
     "execution_count": 19,
     "metadata": {},
     "output_type": "execute_result"
    }
   ],
   "source": [
    "plt.cm.Reds(256)"
   ]
  }
 ],
 "metadata": {
  "kernelspec": {
   "display_name": "Python 3.8.8 ('base')",
   "language": "python",
   "name": "python3"
  },
  "language_info": {
   "codemirror_mode": {
    "name": "ipython",
    "version": 3
   },
   "file_extension": ".py",
   "mimetype": "text/x-python",
   "name": "python",
   "nbconvert_exporter": "python",
   "pygments_lexer": "ipython3",
   "version": "3.8.8"
  },
  "orig_nbformat": 4,
  "vscode": {
   "interpreter": {
    "hash": "56bcd1ab10903308f9a0972b93e2204ef95add342ecd75fa01c6aadbb008a5cb"
   }
  }
 },
 "nbformat": 4,
 "nbformat_minor": 2
}
